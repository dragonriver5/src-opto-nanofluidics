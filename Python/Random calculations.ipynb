{
 "cells": [
  {
   "cell_type": "code",
   "execution_count": 4,
   "metadata": {
    "collapsed": false
   },
   "outputs": [
    {
     "name": "stdout",
     "output_type": "stream",
     "text": [
      "6.04940000685047e-25\n",
      "0.000924191332584\n",
      "0.99999605245\n",
      "0.999999494924\n"
     ]
    }
   ],
   "source": [
    "\n",
    "from sympy import *\n",
    "from IPython.display import display, Image\n",
    "#from IPython.lib.latextools import latex_to_png\n",
    "\n",
    "import numpy as np\n",
    "from scipy import signal\n",
    "from matplotlib import pyplot as plt\n",
    "\n",
    "np.set_printoptions(precision=4)\n",
    "\n",
    "init_printing()\n",
    "\n",
    "\n",
    "# Constants\n",
    "T = 300 # K\n",
    "\n",
    "kB_eV = 8.6173303e-5 # eV/K\n",
    "hbar_eV = 6.582119514e-16 # eV*s\n",
    "\n",
    "kB = 1.38064852e-23 # J/K\n",
    "hbar = 6.626070040e-34 \t# J*s\n",
    "\n",
    "Na = 6.022140857e23 # Avogadro's number /mol\n",
    "F = 96485.33289 # Faraday's constant C/mol\n",
    "R = 8.3144598 # gas constant J/(K *mol)\n",
    "\n",
    "eps_o = 8.854187817620e-12 # permittivity of free space F/m\n",
    "eps_r = # relativie permittivity\n",
    "\n",
    "#n = linspace(1e17, 1e19, 100) # cm^-3\n",
    "\n",
    "c = 3e8  #speed of light m/s\n",
    "m0 =9.10938356e-31 # electron rest mass kg\n",
    "#m0 = 0.5109989461e6/(c^2) # electron mass eV*s^2/cm^2\n",
    "\n",
    "\n",
    "Eg = 3.781e-19 # bandgap J\n",
    "mcc = 0.32 # effective mass/m0\n",
    "\n",
    "p_matrix = sqrt(m0*Eg/2*(1/mcc-1))\n",
    "\n",
    "\n",
    "print p_matrix\n",
    "\n",
    "print 0.925/(0.05*19999.0 + 0.925)\n",
    "print 0.95*19999.0/(0.95*19999.0 + 0.075)\n",
    "print 0.99*19999.0/(1.0+0.99*19998)"
   ]
  },
  {
   "cell_type": "code",
   "execution_count": null,
   "metadata": {
    "collapsed": true
   },
   "outputs": [],
   "source": []
  }
 ],
 "metadata": {
  "kernelspec": {
   "display_name": "Python 2",
   "language": "python",
   "name": "python2"
  },
  "language_info": {
   "codemirror_mode": {
    "name": "ipython",
    "version": 2
   },
   "file_extension": ".py",
   "mimetype": "text/x-python",
   "name": "python",
   "nbconvert_exporter": "python",
   "pygments_lexer": "ipython2",
   "version": "2.7.13"
  }
 },
 "nbformat": 4,
 "nbformat_minor": 2
}
